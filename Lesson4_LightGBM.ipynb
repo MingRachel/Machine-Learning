{
  "nbformat": 4,
  "nbformat_minor": 0,
  "metadata": {
    "colab": {
      "name": "Lesson4_LightGBM.ipynb",
      "provenance": []
    },
    "kernelspec": {
      "name": "python3",
      "display_name": "Python 3"
    },
    "language_info": {
      "name": "python"
    }
  },
  "cells": [
    {
      "cell_type": "code",
      "metadata": {
        "id": "MEuFb_8Gfgoi"
      },
      "source": [
        "# !pip install kaggle\n",
        "# from google.colab import files\n",
        "# files.upload()\n",
        "# !mkdir -p ~/.kaggle\n",
        "# !cp kaggle.json ~/.kaggle/\n",
        "# !chmod 600 ~/.kaggle/kaggle.json\n",
        "# !kaggle competitions download -c titanic\n",
        "# !ls"
      ],
      "execution_count": null,
      "outputs": []
    },
    {
      "cell_type": "markdown",
      "metadata": {
        "id": "LqMLkYGZiWvH"
      },
      "source": [
        "Imports"
      ]
    },
    {
      "cell_type": "code",
      "metadata": {
        "id": "QEAVxAwviQkz"
      },
      "source": [
        "# The usuals\n",
        "import pandas as pd\n",
        "import numpy as np\n",
        "import matplotlib.pyplot as plt\n",
        "\n",
        "# Regular expressions\n",
        "import re\n",
        "\n",
        "# LightGBM\\XGBoost\\GBDT\n",
        "import lightgbm as lgb\n",
        "import xgboost as xgb\n",
        "from sklearn.ensemble import GradientBoostingClassifier\n",
        "# from sklearn.model_selection import \n",
        "\n",
        "# Sklearn tools for model training and assessment\n",
        "from sklearn.model_selection import train_test_split, GridSearchCV\n",
        "from sklearn.metrics import roc_curve, auc, accuracy_score\n"
      ],
      "execution_count": null,
      "outputs": []
    },
    {
      "cell_type": "markdown",
      "metadata": {
        "id": "hWSrEQsxkphO"
      },
      "source": [
        "Input Data"
      ]
    },
    {
      "cell_type": "code",
      "metadata": {
        "id": "8785sKcPknRx"
      },
      "source": [
        "trainRaw = pd.read_csv('train.csv')\n",
        "testRaw = pd.read_csv('test.csv')\n",
        "\n",
        "# Concatenate together\n",
        "TrainRow = trainRaw.shape[0]\n",
        "allsets = pd.concat([trainRaw, testRaw], axis=0,sort=True)"
      ],
      "execution_count": null,
      "outputs": []
    },
    {
      "cell_type": "code",
      "metadata": {
        "colab": {
          "base_uri": "https://localhost:8080/",
          "height": 864
        },
        "id": "XVDKRisflnHs",
        "outputId": "17ea0f6f-43ec-4899-c696-06836f9cab86"
      },
      "source": [
        "allsets"
      ],
      "execution_count": null,
      "outputs": [
        {
          "output_type": "execute_result",
          "data": {
            "text/html": [
              "<div>\n",
              "<style scoped>\n",
              "    .dataframe tbody tr th:only-of-type {\n",
              "        vertical-align: middle;\n",
              "    }\n",
              "\n",
              "    .dataframe tbody tr th {\n",
              "        vertical-align: top;\n",
              "    }\n",
              "\n",
              "    .dataframe thead th {\n",
              "        text-align: right;\n",
              "    }\n",
              "</style>\n",
              "<table border=\"1\" class=\"dataframe\">\n",
              "  <thead>\n",
              "    <tr style=\"text-align: right;\">\n",
              "      <th></th>\n",
              "      <th>Age</th>\n",
              "      <th>Cabin</th>\n",
              "      <th>Embarked</th>\n",
              "      <th>Fare</th>\n",
              "      <th>Name</th>\n",
              "      <th>Parch</th>\n",
              "      <th>PassengerId</th>\n",
              "      <th>Pclass</th>\n",
              "      <th>Sex</th>\n",
              "      <th>SibSp</th>\n",
              "      <th>Survived</th>\n",
              "      <th>Ticket</th>\n",
              "    </tr>\n",
              "  </thead>\n",
              "  <tbody>\n",
              "    <tr>\n",
              "      <th>0</th>\n",
              "      <td>22.0</td>\n",
              "      <td>NaN</td>\n",
              "      <td>S</td>\n",
              "      <td>7.2500</td>\n",
              "      <td>Braund, Mr. Owen Harris</td>\n",
              "      <td>0</td>\n",
              "      <td>1</td>\n",
              "      <td>3</td>\n",
              "      <td>male</td>\n",
              "      <td>1</td>\n",
              "      <td>0.0</td>\n",
              "      <td>A/5 21171</td>\n",
              "    </tr>\n",
              "    <tr>\n",
              "      <th>1</th>\n",
              "      <td>38.0</td>\n",
              "      <td>C85</td>\n",
              "      <td>C</td>\n",
              "      <td>71.2833</td>\n",
              "      <td>Cumings, Mrs. John Bradley (Florence Briggs Th...</td>\n",
              "      <td>0</td>\n",
              "      <td>2</td>\n",
              "      <td>1</td>\n",
              "      <td>female</td>\n",
              "      <td>1</td>\n",
              "      <td>1.0</td>\n",
              "      <td>PC 17599</td>\n",
              "    </tr>\n",
              "    <tr>\n",
              "      <th>2</th>\n",
              "      <td>26.0</td>\n",
              "      <td>NaN</td>\n",
              "      <td>S</td>\n",
              "      <td>7.9250</td>\n",
              "      <td>Heikkinen, Miss. Laina</td>\n",
              "      <td>0</td>\n",
              "      <td>3</td>\n",
              "      <td>3</td>\n",
              "      <td>female</td>\n",
              "      <td>0</td>\n",
              "      <td>1.0</td>\n",
              "      <td>STON/O2. 3101282</td>\n",
              "    </tr>\n",
              "    <tr>\n",
              "      <th>3</th>\n",
              "      <td>35.0</td>\n",
              "      <td>C123</td>\n",
              "      <td>S</td>\n",
              "      <td>53.1000</td>\n",
              "      <td>Futrelle, Mrs. Jacques Heath (Lily May Peel)</td>\n",
              "      <td>0</td>\n",
              "      <td>4</td>\n",
              "      <td>1</td>\n",
              "      <td>female</td>\n",
              "      <td>1</td>\n",
              "      <td>1.0</td>\n",
              "      <td>113803</td>\n",
              "    </tr>\n",
              "    <tr>\n",
              "      <th>4</th>\n",
              "      <td>35.0</td>\n",
              "      <td>NaN</td>\n",
              "      <td>S</td>\n",
              "      <td>8.0500</td>\n",
              "      <td>Allen, Mr. William Henry</td>\n",
              "      <td>0</td>\n",
              "      <td>5</td>\n",
              "      <td>3</td>\n",
              "      <td>male</td>\n",
              "      <td>0</td>\n",
              "      <td>0.0</td>\n",
              "      <td>373450</td>\n",
              "    </tr>\n",
              "    <tr>\n",
              "      <th>...</th>\n",
              "      <td>...</td>\n",
              "      <td>...</td>\n",
              "      <td>...</td>\n",
              "      <td>...</td>\n",
              "      <td>...</td>\n",
              "      <td>...</td>\n",
              "      <td>...</td>\n",
              "      <td>...</td>\n",
              "      <td>...</td>\n",
              "      <td>...</td>\n",
              "      <td>...</td>\n",
              "      <td>...</td>\n",
              "    </tr>\n",
              "    <tr>\n",
              "      <th>413</th>\n",
              "      <td>NaN</td>\n",
              "      <td>NaN</td>\n",
              "      <td>S</td>\n",
              "      <td>8.0500</td>\n",
              "      <td>Spector, Mr. Woolf</td>\n",
              "      <td>0</td>\n",
              "      <td>1305</td>\n",
              "      <td>3</td>\n",
              "      <td>male</td>\n",
              "      <td>0</td>\n",
              "      <td>NaN</td>\n",
              "      <td>A.5. 3236</td>\n",
              "    </tr>\n",
              "    <tr>\n",
              "      <th>414</th>\n",
              "      <td>39.0</td>\n",
              "      <td>C105</td>\n",
              "      <td>C</td>\n",
              "      <td>108.9000</td>\n",
              "      <td>Oliva y Ocana, Dona. Fermina</td>\n",
              "      <td>0</td>\n",
              "      <td>1306</td>\n",
              "      <td>1</td>\n",
              "      <td>female</td>\n",
              "      <td>0</td>\n",
              "      <td>NaN</td>\n",
              "      <td>PC 17758</td>\n",
              "    </tr>\n",
              "    <tr>\n",
              "      <th>415</th>\n",
              "      <td>38.5</td>\n",
              "      <td>NaN</td>\n",
              "      <td>S</td>\n",
              "      <td>7.2500</td>\n",
              "      <td>Saether, Mr. Simon Sivertsen</td>\n",
              "      <td>0</td>\n",
              "      <td>1307</td>\n",
              "      <td>3</td>\n",
              "      <td>male</td>\n",
              "      <td>0</td>\n",
              "      <td>NaN</td>\n",
              "      <td>SOTON/O.Q. 3101262</td>\n",
              "    </tr>\n",
              "    <tr>\n",
              "      <th>416</th>\n",
              "      <td>NaN</td>\n",
              "      <td>NaN</td>\n",
              "      <td>S</td>\n",
              "      <td>8.0500</td>\n",
              "      <td>Ware, Mr. Frederick</td>\n",
              "      <td>0</td>\n",
              "      <td>1308</td>\n",
              "      <td>3</td>\n",
              "      <td>male</td>\n",
              "      <td>0</td>\n",
              "      <td>NaN</td>\n",
              "      <td>359309</td>\n",
              "    </tr>\n",
              "    <tr>\n",
              "      <th>417</th>\n",
              "      <td>NaN</td>\n",
              "      <td>NaN</td>\n",
              "      <td>C</td>\n",
              "      <td>22.3583</td>\n",
              "      <td>Peter, Master. Michael J</td>\n",
              "      <td>1</td>\n",
              "      <td>1309</td>\n",
              "      <td>3</td>\n",
              "      <td>male</td>\n",
              "      <td>1</td>\n",
              "      <td>NaN</td>\n",
              "      <td>2668</td>\n",
              "    </tr>\n",
              "  </tbody>\n",
              "</table>\n",
              "<p>1309 rows × 12 columns</p>\n",
              "</div>"
            ],
            "text/plain": [
              "      Age Cabin Embarked      Fare  ...     Sex  SibSp  Survived              Ticket\n",
              "0    22.0   NaN        S    7.2500  ...    male      1       0.0           A/5 21171\n",
              "1    38.0   C85        C   71.2833  ...  female      1       1.0            PC 17599\n",
              "2    26.0   NaN        S    7.9250  ...  female      0       1.0    STON/O2. 3101282\n",
              "3    35.0  C123        S   53.1000  ...  female      1       1.0              113803\n",
              "4    35.0   NaN        S    8.0500  ...    male      0       0.0              373450\n",
              "..    ...   ...      ...       ...  ...     ...    ...       ...                 ...\n",
              "413   NaN   NaN        S    8.0500  ...    male      0       NaN           A.5. 3236\n",
              "414  39.0  C105        C  108.9000  ...  female      0       NaN            PC 17758\n",
              "415  38.5   NaN        S    7.2500  ...    male      0       NaN  SOTON/O.Q. 3101262\n",
              "416   NaN   NaN        S    8.0500  ...    male      0       NaN              359309\n",
              "417   NaN   NaN        C   22.3583  ...    male      1       NaN                2668\n",
              "\n",
              "[1309 rows x 12 columns]"
            ]
          },
          "metadata": {
            "tags": []
          },
          "execution_count": 543
        }
      ]
    },
    {
      "cell_type": "markdown",
      "metadata": {
        "id": "8sLUjdiMoVJd"
      },
      "source": [
        "Create new features"
      ]
    },
    {
      "cell_type": "markdown",
      "metadata": {
        "id": "disem2okdpAM"
      },
      "source": [
        "1.Cabin"
      ]
    },
    {
      "cell_type": "code",
      "metadata": {
        "id": "m-WwYK9AoLDU"
      },
      "source": [
        "# Build new features from Cabin\n",
        "# Seperate Canbin to Letter and Number for who has Canbin\n",
        "def CabSplit(s):\n",
        "    \"\"\"\n",
        "    Function to try and extract cabin letter and number from the cabin column.\n",
        "    Runs a regular expression that finds letters and numbers in the\n",
        "    string. These are held in match.group, if they exist.\n",
        "    \"\"\"\n",
        "    match = re.match(r\"([a-z]+)([0-9]+)\",s,re.I) #re.I 使匹配对大小写不敏感\n",
        "\n",
        "    try:\n",
        "        letter = match.group(1) #满足([a-z]+)的部分\n",
        "    except:\n",
        "        letter = ''\n",
        "\n",
        "    try:\n",
        "        number = match.group(2) #满足([0-9]+)的部分\n",
        "    except:\n",
        "        number = 9999\n",
        "    return letter, number\n",
        "\n",
        "# Count the number of Canbin\n",
        "def DR(s):\n",
        "    \"\"\"\n",
        "    From the cabin string, try and extract letter, number, and number of cabins\n",
        "    \"\"\"\n",
        "    # Check contents\n",
        "    if isinstance(s, (int,float)): \n",
        "      # 若s是int或者float(只有数字形式) \n",
        "      # 说明没有Cabin信息 为空 \n",
        "       letter = ''\n",
        "       number = ''\n",
        "       nCabins = 9999\n",
        "    else:\n",
        "       # If field isn't empty, split string to letter and unmber. \n",
        "       # Some strings contain multiple cabins.\n",
        "       s = s.split(' ')\n",
        "       # Count the cabins based on number of splits\n",
        "       nCabins = len(s)\n",
        "       # Just take first cabin for letter/number extraction\n",
        "       s = s[0]\n",
        "\n",
        "       letter, number = CabSplit(s)\n",
        "\n",
        "    return [letter, number, nCabins]\n",
        "\n",
        "# Apply DR function to each cell in Cabin column using pandas apply method.\n",
        "out = allsets['Cabin'].apply(DR)\n",
        "\n",
        "# Output tuple with 3 values for each row, convert this to pandas df\n",
        "out = out.apply(pd.Series)\n",
        "\n",
        "# name the columns\n",
        "out.columns = ['Cabletter','Cabnumber','Cabcount']\n",
        "\n",
        "# Concatenate these columns to the dataset\n",
        "allsets = pd.concat([allsets,out],axis = 1)      \n"
      ],
      "execution_count": null,
      "outputs": []
    },
    {
      "cell_type": "code",
      "metadata": {
        "id": "-I-hofBGXH1-"
      },
      "source": [
        "# allsets"
      ],
      "execution_count": null,
      "outputs": []
    },
    {
      "cell_type": "markdown",
      "metadata": {
        "id": "ehPbbcMxdrVw"
      },
      "source": [
        "2.Family & Age"
      ]
    },
    {
      "cell_type": "code",
      "metadata": {
        "id": "5u4gbmGmbBdn"
      },
      "source": [
        "# Add some family features directly to new columns in the dataset\n",
        "\n",
        "#size\n",
        "allsets['fsize'] = allsets['SibSp'] + allsets['Parch'] + 1\n",
        "\n",
        "#Ratio\n",
        "allsets['fRatio'] = (allsets['Parch'] + 1)/(allsets['SibSp'] + 1)\n",
        "\n",
        "#Adult\n",
        "allsets['Adult'] = allsets['Age'] > 18"
      ],
      "execution_count": null,
      "outputs": []
    },
    {
      "cell_type": "code",
      "metadata": {
        "id": "_OwEoAARcLT-"
      },
      "source": [
        "# allsets"
      ],
      "execution_count": null,
      "outputs": []
    },
    {
      "cell_type": "markdown",
      "metadata": {
        "id": "ImyRc73DdvCv"
      },
      "source": [
        "3.Name"
      ]
    },
    {
      "cell_type": "code",
      "metadata": {
        "id": "OjHr7N1Fdwy9"
      },
      "source": [
        "# Extract titles from Name column, standardise"
      ],
      "execution_count": null,
      "outputs": []
    },
    {
      "cell_type": "code",
      "metadata": {
        "id": "DyIo0lnqd6jd"
      },
      "source": [
        "titleDict = {\n",
        "    \"Capt\": \"Officer\",\n",
        "    \"Col\": \"Officer\",\n",
        "    \"Major\": \"Officer\",\n",
        "    \"Jonkheer\": \"Sir\",\n",
        "    \"Don\": \"Sir\",\n",
        "    \"Sir\": \"Sir\",\n",
        "    \"Dr\": \"Dr\",\n",
        "    \"Rev\": \"Rev\",\n",
        "    \"theCountess\": \"Lady\",\n",
        "    \"Dona\": \"Lady\",\n",
        "    \"Mme\": \"Mrs\",\n",
        "    \"Mlle\": \"Miss\",\n",
        "    \"Ms\": \"Mrs\",\n",
        "    \"Mr\": \"Mr\",\n",
        "    \"Mrs\": \"Mrs\",\n",
        "    \"Miss\": \"Miss\",\n",
        "    \"Master\": \"Master\",\n",
        "    \"Lady\": \"Lady\"\n",
        "}\n",
        "\n",
        "def NameSplit(s, titleDict):\n",
        "    \"\"\"\n",
        "    Extract title from name, replace with value in title dictionary. Also\n",
        "    return surname.\n",
        "    \"\"\"\n",
        "\n",
        "    # Remove '.' from name string\n",
        "    s = s.replace('.','')\n",
        "    # Split on spaces\n",
        "    s = s.split(' ')\n",
        "    # get surname\n",
        "    surname = s[0]\n",
        "\n",
        "    #get title - loop over titleDict\n",
        "    #if s matches a key, take the corresponding value as the tile\n",
        "    title = []\n",
        "    for k, t in titleDict.items():\n",
        "      if str(k) in s:\n",
        "        title.append(t)\n",
        "        \n",
        "    if title == []:\n",
        "        title = 'other'\n",
        "    else:\n",
        "        # Title is a list, so extract contents\n",
        "        title = title[0]\n",
        "    return surname.strip(','), title\n",
        "\n",
        "out = allsets['Name'].apply(NameSplit,args=[titleDict])\n",
        "\n",
        "out = out.apply(pd.Series)\n",
        "out.columns = ['Surname','Title']\n",
        "allsets = pd.concat([allsets, out],axis=1)\n"
      ],
      "execution_count": null,
      "outputs": []
    },
    {
      "cell_type": "code",
      "metadata": {
        "colab": {
          "base_uri": "https://localhost:8080/",
          "height": 864
        },
        "id": "clDv08YD_OF2",
        "outputId": "76e4adee-c377-4a7c-f903-4b28d2cdee46"
      },
      "source": [
        "allsets"
      ],
      "execution_count": null,
      "outputs": [
        {
          "output_type": "execute_result",
          "data": {
            "text/html": [
              "<div>\n",
              "<style scoped>\n",
              "    .dataframe tbody tr th:only-of-type {\n",
              "        vertical-align: middle;\n",
              "    }\n",
              "\n",
              "    .dataframe tbody tr th {\n",
              "        vertical-align: top;\n",
              "    }\n",
              "\n",
              "    .dataframe thead th {\n",
              "        text-align: right;\n",
              "    }\n",
              "</style>\n",
              "<table border=\"1\" class=\"dataframe\">\n",
              "  <thead>\n",
              "    <tr style=\"text-align: right;\">\n",
              "      <th></th>\n",
              "      <th>Age</th>\n",
              "      <th>Cabin</th>\n",
              "      <th>Embarked</th>\n",
              "      <th>Fare</th>\n",
              "      <th>Name</th>\n",
              "      <th>Parch</th>\n",
              "      <th>PassengerId</th>\n",
              "      <th>Pclass</th>\n",
              "      <th>Sex</th>\n",
              "      <th>SibSp</th>\n",
              "      <th>Survived</th>\n",
              "      <th>Ticket</th>\n",
              "      <th>Cabletter</th>\n",
              "      <th>Cabnumber</th>\n",
              "      <th>Cabcount</th>\n",
              "      <th>fsize</th>\n",
              "      <th>fRatio</th>\n",
              "      <th>Adult</th>\n",
              "      <th>Surname</th>\n",
              "      <th>Title</th>\n",
              "    </tr>\n",
              "  </thead>\n",
              "  <tbody>\n",
              "    <tr>\n",
              "      <th>0</th>\n",
              "      <td>22.0</td>\n",
              "      <td>NaN</td>\n",
              "      <td>S</td>\n",
              "      <td>7.2500</td>\n",
              "      <td>Braund, Mr. Owen Harris</td>\n",
              "      <td>0</td>\n",
              "      <td>1</td>\n",
              "      <td>3</td>\n",
              "      <td>male</td>\n",
              "      <td>1</td>\n",
              "      <td>0.0</td>\n",
              "      <td>A/5 21171</td>\n",
              "      <td></td>\n",
              "      <td></td>\n",
              "      <td>9999</td>\n",
              "      <td>2</td>\n",
              "      <td>0.5</td>\n",
              "      <td>True</td>\n",
              "      <td>Braund</td>\n",
              "      <td>Mr</td>\n",
              "    </tr>\n",
              "    <tr>\n",
              "      <th>1</th>\n",
              "      <td>38.0</td>\n",
              "      <td>C85</td>\n",
              "      <td>C</td>\n",
              "      <td>71.2833</td>\n",
              "      <td>Cumings, Mrs. John Bradley (Florence Briggs Th...</td>\n",
              "      <td>0</td>\n",
              "      <td>2</td>\n",
              "      <td>1</td>\n",
              "      <td>female</td>\n",
              "      <td>1</td>\n",
              "      <td>1.0</td>\n",
              "      <td>PC 17599</td>\n",
              "      <td>C</td>\n",
              "      <td>85</td>\n",
              "      <td>1</td>\n",
              "      <td>2</td>\n",
              "      <td>0.5</td>\n",
              "      <td>True</td>\n",
              "      <td>Cumings</td>\n",
              "      <td>Mrs</td>\n",
              "    </tr>\n",
              "    <tr>\n",
              "      <th>2</th>\n",
              "      <td>26.0</td>\n",
              "      <td>NaN</td>\n",
              "      <td>S</td>\n",
              "      <td>7.9250</td>\n",
              "      <td>Heikkinen, Miss. Laina</td>\n",
              "      <td>0</td>\n",
              "      <td>3</td>\n",
              "      <td>3</td>\n",
              "      <td>female</td>\n",
              "      <td>0</td>\n",
              "      <td>1.0</td>\n",
              "      <td>STON/O2. 3101282</td>\n",
              "      <td></td>\n",
              "      <td></td>\n",
              "      <td>9999</td>\n",
              "      <td>1</td>\n",
              "      <td>1.0</td>\n",
              "      <td>True</td>\n",
              "      <td>Heikkinen</td>\n",
              "      <td>Miss</td>\n",
              "    </tr>\n",
              "    <tr>\n",
              "      <th>3</th>\n",
              "      <td>35.0</td>\n",
              "      <td>C123</td>\n",
              "      <td>S</td>\n",
              "      <td>53.1000</td>\n",
              "      <td>Futrelle, Mrs. Jacques Heath (Lily May Peel)</td>\n",
              "      <td>0</td>\n",
              "      <td>4</td>\n",
              "      <td>1</td>\n",
              "      <td>female</td>\n",
              "      <td>1</td>\n",
              "      <td>1.0</td>\n",
              "      <td>113803</td>\n",
              "      <td>C</td>\n",
              "      <td>123</td>\n",
              "      <td>1</td>\n",
              "      <td>2</td>\n",
              "      <td>0.5</td>\n",
              "      <td>True</td>\n",
              "      <td>Futrelle</td>\n",
              "      <td>Mrs</td>\n",
              "    </tr>\n",
              "    <tr>\n",
              "      <th>4</th>\n",
              "      <td>35.0</td>\n",
              "      <td>NaN</td>\n",
              "      <td>S</td>\n",
              "      <td>8.0500</td>\n",
              "      <td>Allen, Mr. William Henry</td>\n",
              "      <td>0</td>\n",
              "      <td>5</td>\n",
              "      <td>3</td>\n",
              "      <td>male</td>\n",
              "      <td>0</td>\n",
              "      <td>0.0</td>\n",
              "      <td>373450</td>\n",
              "      <td></td>\n",
              "      <td></td>\n",
              "      <td>9999</td>\n",
              "      <td>1</td>\n",
              "      <td>1.0</td>\n",
              "      <td>True</td>\n",
              "      <td>Allen</td>\n",
              "      <td>Mr</td>\n",
              "    </tr>\n",
              "    <tr>\n",
              "      <th>...</th>\n",
              "      <td>...</td>\n",
              "      <td>...</td>\n",
              "      <td>...</td>\n",
              "      <td>...</td>\n",
              "      <td>...</td>\n",
              "      <td>...</td>\n",
              "      <td>...</td>\n",
              "      <td>...</td>\n",
              "      <td>...</td>\n",
              "      <td>...</td>\n",
              "      <td>...</td>\n",
              "      <td>...</td>\n",
              "      <td>...</td>\n",
              "      <td>...</td>\n",
              "      <td>...</td>\n",
              "      <td>...</td>\n",
              "      <td>...</td>\n",
              "      <td>...</td>\n",
              "      <td>...</td>\n",
              "      <td>...</td>\n",
              "    </tr>\n",
              "    <tr>\n",
              "      <th>413</th>\n",
              "      <td>NaN</td>\n",
              "      <td>NaN</td>\n",
              "      <td>S</td>\n",
              "      <td>8.0500</td>\n",
              "      <td>Spector, Mr. Woolf</td>\n",
              "      <td>0</td>\n",
              "      <td>1305</td>\n",
              "      <td>3</td>\n",
              "      <td>male</td>\n",
              "      <td>0</td>\n",
              "      <td>NaN</td>\n",
              "      <td>A.5. 3236</td>\n",
              "      <td></td>\n",
              "      <td></td>\n",
              "      <td>9999</td>\n",
              "      <td>1</td>\n",
              "      <td>1.0</td>\n",
              "      <td>False</td>\n",
              "      <td>Spector</td>\n",
              "      <td>Mr</td>\n",
              "    </tr>\n",
              "    <tr>\n",
              "      <th>414</th>\n",
              "      <td>39.0</td>\n",
              "      <td>C105</td>\n",
              "      <td>C</td>\n",
              "      <td>108.9000</td>\n",
              "      <td>Oliva y Ocana, Dona. Fermina</td>\n",
              "      <td>0</td>\n",
              "      <td>1306</td>\n",
              "      <td>1</td>\n",
              "      <td>female</td>\n",
              "      <td>0</td>\n",
              "      <td>NaN</td>\n",
              "      <td>PC 17758</td>\n",
              "      <td>C</td>\n",
              "      <td>105</td>\n",
              "      <td>1</td>\n",
              "      <td>1</td>\n",
              "      <td>1.0</td>\n",
              "      <td>True</td>\n",
              "      <td>Oliva</td>\n",
              "      <td>Lady</td>\n",
              "    </tr>\n",
              "    <tr>\n",
              "      <th>415</th>\n",
              "      <td>38.5</td>\n",
              "      <td>NaN</td>\n",
              "      <td>S</td>\n",
              "      <td>7.2500</td>\n",
              "      <td>Saether, Mr. Simon Sivertsen</td>\n",
              "      <td>0</td>\n",
              "      <td>1307</td>\n",
              "      <td>3</td>\n",
              "      <td>male</td>\n",
              "      <td>0</td>\n",
              "      <td>NaN</td>\n",
              "      <td>SOTON/O.Q. 3101262</td>\n",
              "      <td></td>\n",
              "      <td></td>\n",
              "      <td>9999</td>\n",
              "      <td>1</td>\n",
              "      <td>1.0</td>\n",
              "      <td>True</td>\n",
              "      <td>Saether</td>\n",
              "      <td>Mr</td>\n",
              "    </tr>\n",
              "    <tr>\n",
              "      <th>416</th>\n",
              "      <td>NaN</td>\n",
              "      <td>NaN</td>\n",
              "      <td>S</td>\n",
              "      <td>8.0500</td>\n",
              "      <td>Ware, Mr. Frederick</td>\n",
              "      <td>0</td>\n",
              "      <td>1308</td>\n",
              "      <td>3</td>\n",
              "      <td>male</td>\n",
              "      <td>0</td>\n",
              "      <td>NaN</td>\n",
              "      <td>359309</td>\n",
              "      <td></td>\n",
              "      <td></td>\n",
              "      <td>9999</td>\n",
              "      <td>1</td>\n",
              "      <td>1.0</td>\n",
              "      <td>False</td>\n",
              "      <td>Ware</td>\n",
              "      <td>Mr</td>\n",
              "    </tr>\n",
              "    <tr>\n",
              "      <th>417</th>\n",
              "      <td>NaN</td>\n",
              "      <td>NaN</td>\n",
              "      <td>C</td>\n",
              "      <td>22.3583</td>\n",
              "      <td>Peter, Master. Michael J</td>\n",
              "      <td>1</td>\n",
              "      <td>1309</td>\n",
              "      <td>3</td>\n",
              "      <td>male</td>\n",
              "      <td>1</td>\n",
              "      <td>NaN</td>\n",
              "      <td>2668</td>\n",
              "      <td></td>\n",
              "      <td></td>\n",
              "      <td>9999</td>\n",
              "      <td>3</td>\n",
              "      <td>1.0</td>\n",
              "      <td>False</td>\n",
              "      <td>Peter</td>\n",
              "      <td>Master</td>\n",
              "    </tr>\n",
              "  </tbody>\n",
              "</table>\n",
              "<p>1309 rows × 20 columns</p>\n",
              "</div>"
            ],
            "text/plain": [
              "      Age Cabin Embarked      Fare  ... fRatio  Adult    Surname   Title\n",
              "0    22.0   NaN        S    7.2500  ...    0.5   True     Braund      Mr\n",
              "1    38.0   C85        C   71.2833  ...    0.5   True    Cumings     Mrs\n",
              "2    26.0   NaN        S    7.9250  ...    1.0   True  Heikkinen    Miss\n",
              "3    35.0  C123        S   53.1000  ...    0.5   True   Futrelle     Mrs\n",
              "4    35.0   NaN        S    8.0500  ...    1.0   True      Allen      Mr\n",
              "..    ...   ...      ...       ...  ...    ...    ...        ...     ...\n",
              "413   NaN   NaN        S    8.0500  ...    1.0  False    Spector      Mr\n",
              "414  39.0  C105        C  108.9000  ...    1.0   True      Oliva    Lady\n",
              "415  38.5   NaN        S    7.2500  ...    1.0   True    Saether      Mr\n",
              "416   NaN   NaN        S    8.0500  ...    1.0  False       Ware      Mr\n",
              "417   NaN   NaN        C   22.3583  ...    1.0  False      Peter  Master\n",
              "\n",
              "[1309 rows x 20 columns]"
            ]
          },
          "metadata": {
            "tags": []
          },
          "execution_count": 550
        }
      ]
    },
    {
      "cell_type": "markdown",
      "metadata": {
        "id": "q9-3TQGhmAPj"
      },
      "source": [
        "4.Tickets"
      ]
    },
    {
      "cell_type": "code",
      "metadata": {
        "id": "GTn--fOPl33R"
      },
      "source": [
        "TicketDict = {\n",
        "    \"A./5.\": \"A\",\n",
        "    \"A.5.\": \"A\",\n",
        "    \"A/4\": \"A\",\n",
        "    \"A/4.\": \"A\",\n",
        "    \"A/5\": \"A\",\n",
        "    \"A/5.\": \"A\",\n",
        "    \"A/S\": \"A\",\n",
        "    \"A4.\": \"A\",\n",
        "    \"C\": \"C\",\n",
        "    \"C.A.\":\"C\",\n",
        "    \"CA.\": \"C\",\n",
        "    \"C.A./\": \"C\",\n",
        "    \"CA\": \"C\",\n",
        "    \"F.C.\": \"FC\",\n",
        "    \"F.C.C.\": \"FC\",\n",
        "    \"LINE\":\"LINE\",\n",
        "    \"PC\": \"PC\",\n",
        "    \"PP\": \"PC\",\n",
        "    \"SOTON/O.Q.\": \"SO\",\n",
        "    \"SOTON/O2\": \"SO\",\n",
        "    \"SOTON/OQ\": \"SO\",\n",
        "    \"STON/O\" : \"ST\",\n",
        "    \"STON/O2.\": \"ST\"\n",
        "}\n",
        "\n",
        "def splitTic(s):\n",
        "\n",
        "    match = re.match(r\"([0-9]+)\", s, re.I)\n",
        "\n",
        "    try:\n",
        "        number = int(match.group(1))\n",
        "    except:\n",
        "        number = s\n",
        "\n",
        "    return number\n",
        "\n",
        "\n",
        "def SP(s, TicketDict):\n",
        "    s = splitTic(s)\n",
        "    if isinstance(s, (int)):\n",
        "       if s <= 9999:\n",
        "          tic = 'a'\n",
        "       if ((s >= 10000) and (s < 99999)):\n",
        "          tic = 'b'\n",
        "       if ((s >= 100000) and (s < 999999)):\n",
        "          tic = 'c'\n",
        "       else:\n",
        "          tic = 'd'\n",
        "    else:\n",
        "       s = s.split(' ')\n",
        "      \n",
        "       tic = [t for k, t in TicketDict.items() if str(k) in s]\n",
        "      \n",
        "       if tic == []:\n",
        "        tic = 'Other'\n",
        "       else:\n",
        "        # Title is a list, so extract contents\n",
        "        tic = tic[0]\n",
        "      \n",
        "    return tic\n",
        "\n",
        "# out = allsets['Ticket'].apply(splitTic, args=[TicketDict])\n",
        "out = allsets['Ticket'].apply(SP, args = [TicketDict])\n",
        "out = out.apply(pd.Series)\n",
        "out.columns = ['Tickettype']\n",
        "\n",
        "allsets = pd.concat([allsets,out],axis=1)\n"
      ],
      "execution_count": null,
      "outputs": []
    },
    {
      "cell_type": "code",
      "metadata": {
        "colab": {
          "base_uri": "https://localhost:8080/"
        },
        "id": "con_2SKx79_h",
        "outputId": "aa390a82-7d62-4ae0-c248-ba38dadf6bd1"
      },
      "source": [
        "allsets['Tickettype']"
      ],
      "execution_count": null,
      "outputs": [
        {
          "output_type": "execute_result",
          "data": {
            "text/plain": [
              "0       A\n",
              "1      PC\n",
              "2      ST\n",
              "3       c\n",
              "4       c\n",
              "       ..\n",
              "413     A\n",
              "414    PC\n",
              "415    SO\n",
              "416     c\n",
              "417     d\n",
              "Name: Tickettype, Length: 1309, dtype: object"
            ]
          },
          "metadata": {
            "tags": []
          },
          "execution_count": 552
        }
      ]
    },
    {
      "cell_type": "code",
      "metadata": {
        "id": "FMsItjyCk4RW"
      },
      "source": [
        "# List of categorical columns to record\n",
        "catCols = ['Sex', 'Embarked', 'Cabletter', 'Cabnumber', 'Surname', 'Title', 'Tickettype']\n",
        "\n",
        "for c in catCols:\n",
        "    # Convert column to pd.Catgorical\n",
        "    # 找出有几个类别\n",
        "    allsets[c] = pd.Categorical(allsets[c])\n",
        "    # Extract the cat.codes and replace the column with these\n",
        "    # 把类别转换成数字\n",
        "    allsets[c] = allsets[c].cat.codes\n",
        "    # Convert the cat codes to categorical \n",
        "    # 把dtype 从int8改为category\n",
        "    allsets[c] = pd.Categorical(allsets[c])\n",
        "\n",
        "\n",
        "# Generate a logical index of categorical columns to maybe use with LightGBM later\n",
        "catCols = [i for i,v in enumerate(allsets.dtypes) if str(v)=='category']\n",
        "\n",
        "# Replace missing age value with median\n",
        "allsets['Age'] = allsets['Age'].fillna(allsets['Age'].median())\n"
      ],
      "execution_count": null,
      "outputs": []
    },
    {
      "cell_type": "code",
      "metadata": {
        "colab": {
          "base_uri": "https://localhost:8080/"
        },
        "id": "KeflwgeqFuou",
        "outputId": "8f79b286-2b81-47b3-e666-df8162ea2a28"
      },
      "source": [
        "# cor = allsets.corr()\n",
        "# train_cor = cor['Survived'].to_dict()\n",
        "# print(train_cor)"
      ],
      "execution_count": null,
      "outputs": [
        {
          "output_type": "stream",
          "text": [
            "{'Age': -0.06491041993052575, 'Embarked': -0.1765092251688822, 'Fare': 0.2573065223849618, 'Parch': 0.08162940708348222, 'PassengerId': -0.005006660767066476, 'Pclass': -0.33848103596101586, 'Sex': -0.5433513806577526, 'SibSp': -0.03532249888573588, 'Survived': 1.0, 'Cabletter': 0.3052837254015841, 'Cabnumber': 0.265330768116824, 'Cabcount': -0.316912438231453, 'fsize': 0.01663898928274531, 'fRatio': 0.09207828202224275, 'Adult': -0.0034108597372871463, 'Surname': -0.05794171163989489, 'Title': -0.07380310227652323, 'Tickettype': 0.07273666414567713}\n"
          ],
          "name": "stdout"
        }
      ]
    },
    {
      "cell_type": "code",
      "metadata": {
        "id": "qrlzZy79q0Sb"
      },
      "source": [
        "# Split datasets\n",
        "train = allsets.iloc[0:TrainRow,:]\n",
        "test = allsets.iloc[TrainRow:,:]\n",
        "\n",
        "# Prepare data\n",
        "def prepLGB(data, classCol='', IDCol='',fDrop=[]):\n",
        "    \n",
        "    # Drop class column\n",
        "    if classCol != '':\n",
        "        labels = data[classCol]\n",
        "        fDrop = fDrop + [classCol]\n",
        "    else:\n",
        "        labels = []\n",
        "    \n",
        "    if IDCol != '':\n",
        "        IDs = data[IDCol]\n",
        "    else:\n",
        "        IDs = []\n",
        "\n",
        "    if fDrop != []:\n",
        "       data = data.drop(fDrop, axis = 1)\n",
        "\n",
        "    # Creat LGB mats\n",
        "    # 创建成lgb特征的数据集格式\n",
        "    lgbData = lgb.Dataset(data, label=labels, \n",
        "                          free_raw_data=False,\n",
        "                          feature_name=list(data.columns),\n",
        "                          categorical_feature = 'auto')\n",
        "    \n",
        "    # lgbData是lgb特征的数据集格式,包含label\n",
        "    # data就是drop了label之后的正常train set\n",
        "    # labels 就是train里的 'y' \n",
        "    return lgbData, labels, IDs, data\n",
        "\n",
        "\n",
        "# Specify columns to drop\n",
        "fDrop = ['Ticket', 'Cabin', 'Name']"
      ],
      "execution_count": null,
      "outputs": []
    },
    {
      "cell_type": "code",
      "metadata": {
        "id": "3LsuqE25ueuX"
      },
      "source": [
        "# Split training data into training and validation sets\n",
        "# Validation set is used for early stopping\n",
        "trainData, validData = train_test_split(train, test_size = 0.3, \n",
        "                                        stratify=train.Survived)\n",
        "\n",
        "# Prepare the data sets\n",
        "trainDatalgb, trainLabels, trainIDs, trainData = prepLGB(trainData,\n",
        "                                                         classCol = 'Survived',\n",
        "                                                         IDCol = 'PassengerId', \n",
        "                                                         fDrop = fDrop)\n",
        "\n",
        "validDatalgb, validLabels, validIDs, validData = prepLGB(validData,\n",
        "                                                         classCol = 'Survived',\n",
        "                                                         IDCol = 'PassengerId',\n",
        "                                                         fDrop = fDrop)\n",
        "\n",
        "testDatalgb, _, _, testData = prepLGB(test, \n",
        "                                      classCol='Survived',\n",
        "                                      IDCol='PassengerId',\n",
        "                                      fDrop=fDrop)\n",
        "\n",
        "# Prepare data set using all the training data\n",
        "allTrainDatalgb, allTrainLabels, _, allTrainData = prepLGB(train, \n",
        "                                                           classCol='Survived',\n",
        "                                                           IDCol='PassengerId',\n",
        "                                                           fDrop=fDrop)\n",
        "\n",
        "\n",
        "\n",
        "\n"
      ],
      "execution_count": null,
      "outputs": []
    },
    {
      "cell_type": "code",
      "metadata": {
        "id": "wgr3JYv90l9a"
      },
      "source": [
        "# trainDatalgb 的数据类型：<lightgbm.basic.Dataset at 0x7f0556a2a650>"
      ],
      "execution_count": null,
      "outputs": []
    },
    {
      "cell_type": "code",
      "metadata": {
        "id": "ocJ7g0DRzcsq"
      },
      "source": [
        "# Without tuning and early stopping\n",
        "params = {'boosting_type': 'gbdt', # traditional GBDT\n",
        "          'max_depth' : -1, # <= 0 means no limit\n",
        "          'objective': 'binary', # 二分类\n",
        "          'nthread': 3, # Updated from nthread\n",
        "          'num_leaves': 64, # Maximum tree leaves for base learners\n",
        "          'learning_rate': 0.05, \n",
        "          'max_bin': 512, \n",
        "          'subsample_for_bin': 200,\n",
        "          'subsample': 1,\n",
        "          'subsample_freq': 1,\n",
        "          'colsample_bytree': 0.8, # Subsample ratio of columns when constructing each tree\n",
        "          'reg_alpha': 5, # L1 regularization term on weights\n",
        "          'reg_lambda': 10, # L2 regularization term on weights.\n",
        "          'min_split_gain': 0.5,\n",
        "          'min_child_weight': 1,\n",
        "          'min_child_samples': 5,\n",
        "          'scale_pos_weight': 1,\n",
        "          'num_class' : 1,\n",
        "          'metric' : 'binary_error'}\n"
      ],
      "execution_count": null,
      "outputs": []
    },
    {
      "cell_type": "code",
      "metadata": {
        "id": "CP37VdJ4zPHR"
      },
      "source": [
        "# Create parameters to search 进行调参\n",
        "gridParams = {\n",
        "    'learning_rate':[0.005,0.05,0.1],\n",
        "    'n_estimators':[40],\n",
        "    'num_leaves':[6,16,24,31],\n",
        "    'boosting_type':['gbdt'],\n",
        "    'objective':['binary'],\n",
        "    'random_state':[28],\n",
        "    'colsample_bytree': [0.65,0.66],\n",
        "    'subsample':[0.7,0.75],\n",
        "    'reg_alpha':[0,1,1.2],\n",
        "    'reg_lambda':[0,1,1.2,1.4]\n",
        "    }"
      ],
      "execution_count": null,
      "outputs": []
    },
    {
      "cell_type": "code",
      "metadata": {
        "id": "W2SX-KOy8PaB"
      },
      "source": [
        "# Create classifier to use\n",
        "lgbmodel = lgb.LGBMClassifier(boosting_type = 'gbdt',\n",
        "                              objective = 'binary',\n",
        "                              n_job = 3,\n",
        "                              silent = True,\n",
        "                              max_depth = params['max_depth'],\n",
        "                              max_bin = params['max_bin'],\n",
        "                              subsample_for_bin = params['subsample_for_bin'],\n",
        "                              subsample = params['subsample'],\n",
        "                              subsample_freq = params['subsample_freq'],\n",
        "                              min_split_gain = params['min_split_gain'],\n",
        "                              min_child_weight = params['min_child_weight'],\n",
        "                              min_child_samples = params['min_child_samples'],\n",
        "                              scale_pos_weight = params['scale_pos_weight'])\n"
      ],
      "execution_count": null,
      "outputs": []
    },
    {
      "cell_type": "code",
      "metadata": {
        "colab": {
          "base_uri": "https://localhost:8080/"
        },
        "id": "pk5cfXgjCTFi",
        "outputId": "68c9cd72-e9a7-4cc6-a6ed-e7a9ff9eac48"
      },
      "source": [
        "# View the default model params:\n",
        "lgbmodel.get_params()"
      ],
      "execution_count": null,
      "outputs": [
        {
          "output_type": "execute_result",
          "data": {
            "text/plain": [
              "{'boosting_type': 'gbdt',\n",
              " 'class_weight': None,\n",
              " 'colsample_bytree': 1.0,\n",
              " 'importance_type': 'split',\n",
              " 'learning_rate': 0.1,\n",
              " 'max_bin': 512,\n",
              " 'max_depth': -1,\n",
              " 'min_child_samples': 5,\n",
              " 'min_child_weight': 1,\n",
              " 'min_split_gain': 0.5,\n",
              " 'n_estimators': 100,\n",
              " 'n_job': 3,\n",
              " 'n_jobs': -1,\n",
              " 'num_leaves': 31,\n",
              " 'objective': 'binary',\n",
              " 'random_state': None,\n",
              " 'reg_alpha': 0.0,\n",
              " 'reg_lambda': 0.0,\n",
              " 'scale_pos_weight': 1,\n",
              " 'silent': True,\n",
              " 'subsample': 1,\n",
              " 'subsample_for_bin': 200,\n",
              " 'subsample_freq': 1}"
            ]
          },
          "metadata": {
            "tags": []
          },
          "execution_count": 532
        }
      ]
    },
    {
      "cell_type": "code",
      "metadata": {
        "colab": {
          "base_uri": "https://localhost:8080/"
        },
        "id": "e2OMQpePChDI",
        "outputId": "bf486bf8-9d69-4574-9577-63a3f922fc27"
      },
      "source": [
        "# Create the grid\n",
        "grid = GridSearchCV(lgbmodel, gridParams,\n",
        "                    verbose = 0,\n",
        "                    cv = 4,\n",
        "                    n_jobs = 2)\n",
        "\n",
        "# Run the grid\n",
        "grid.fit(allTrainData, allTrainLabels)\n",
        "\n",
        "# Print the best parameters founf\n",
        "print(grid.best_params_)\n",
        "print(grid.best_score_)\n",
        "\n",
        "# grid.fit()：运行网格搜索\n",
        "# grid_scores_：给出不同参数情况下的评价结果\n",
        "# best_params_：描述了已取得最佳结果的参数的组合\n",
        "# best_score_：提供优化过程期间观察到的最好的评分\n"
      ],
      "execution_count": null,
      "outputs": [
        {
          "output_type": "stream",
          "text": [
            "{'boosting_type': 'gbdt', 'colsample_bytree': 0.65, 'learning_rate': 0.05, 'n_estimators': 40, 'num_leaves': 6, 'objective': 'binary', 'random_state': 28, 'reg_alpha': 1, 'reg_lambda': 0, 'subsample': 0.7}\n",
            "0.8159364521472144\n"
          ],
          "name": "stdout"
        }
      ]
    },
    {
      "cell_type": "code",
      "metadata": {
        "colab": {
          "base_uri": "https://localhost:8080/"
        },
        "id": "jBsmUe4hINV6",
        "outputId": "9930cca9-61df-41fe-a7c7-43fcfecb8470"
      },
      "source": [
        "# Using parameters already set above, replace in the best from the grid search\n",
        "params['colsample_bytree'] = grid.best_params_['colsample_bytree']\n",
        "params['learning_rate'] = grid.best_params_['learning_rate']\n",
        "# params['max_bin'] = grid.best_params_['max_bin']\n",
        "params['num_leaves'] = grid.best_params_['num_leaves']\n",
        "params['reg_alpha'] = grid.best_params_['reg_alpha']\n",
        "params['reg_lambda'] = grid.best_params_['reg_lambda']\n",
        "params['subsample'] = grid.best_params_['subsample']\n",
        "# params['subsample_for_bin'] = grid.best_params_['subsample_for_bin']\n",
        "\n",
        "print('Fitting with params: ')\n",
        "print(params)"
      ],
      "execution_count": null,
      "outputs": [
        {
          "output_type": "stream",
          "text": [
            "Fitting with params: \n",
            "{'boosting_type': 'gbdt', 'max_depth': -1, 'objective': 'binary', 'nthread': 3, 'num_leaves': 6, 'learning_rate': 0.05, 'max_bin': 512, 'subsample_for_bin': 200, 'subsample': 0.7, 'subsample_freq': 1, 'colsample_bytree': 0.65, 'reg_alpha': 1, 'reg_lambda': 0, 'min_split_gain': 0.5, 'min_child_weight': 1, 'min_child_samples': 5, 'scale_pos_weight': 1, 'num_class': 1, 'metric': 'binary_error'}\n"
          ],
          "name": "stdout"
        }
      ]
    },
    {
      "cell_type": "code",
      "metadata": {
        "colab": {
          "base_uri": "https://localhost:8080/"
        },
        "id": "uRFYbcLUcuDu",
        "outputId": "02cf0cdd-ac28-4113-d68d-cd5fb82043aa"
      },
      "source": [
        "gbm = lgb.train(params,\n",
        "                trainDatalgb,\n",
        "                100000,\n",
        "                valid_sets=[trainDatalgb, validDatalgb],\n",
        "                early_stopping_rounds=50,\n",
        "                verbose_eval=4)"
      ],
      "execution_count": null,
      "outputs": [
        {
          "output_type": "stream",
          "text": [
            "Training until validation scores don't improve for 50 rounds.\n",
            "[4]\ttraining's binary_error: 0.383628\tvalid_1's binary_error: 0.384328\n",
            "[8]\ttraining's binary_error: 0.219904\tvalid_1's binary_error: 0.197761\n",
            "[12]\ttraining's binary_error: 0.211878\tvalid_1's binary_error: 0.186567\n",
            "[16]\ttraining's binary_error: 0.17817\tvalid_1's binary_error: 0.160448\n",
            "[20]\ttraining's binary_error: 0.179775\tvalid_1's binary_error: 0.152985\n",
            "[24]\ttraining's binary_error: 0.176565\tvalid_1's binary_error: 0.149254\n",
            "[28]\ttraining's binary_error: 0.170144\tvalid_1's binary_error: 0.164179\n",
            "[32]\ttraining's binary_error: 0.168539\tvalid_1's binary_error: 0.156716\n",
            "[36]\ttraining's binary_error: 0.170144\tvalid_1's binary_error: 0.152985\n",
            "[40]\ttraining's binary_error: 0.170144\tvalid_1's binary_error: 0.152985\n",
            "[44]\ttraining's binary_error: 0.165329\tvalid_1's binary_error: 0.156716\n",
            "[48]\ttraining's binary_error: 0.158909\tvalid_1's binary_error: 0.164179\n",
            "[52]\ttraining's binary_error: 0.152488\tvalid_1's binary_error: 0.164179\n",
            "[56]\ttraining's binary_error: 0.152488\tvalid_1's binary_error: 0.164179\n",
            "[60]\ttraining's binary_error: 0.150883\tvalid_1's binary_error: 0.164179\n",
            "[64]\ttraining's binary_error: 0.152488\tvalid_1's binary_error: 0.164179\n",
            "[68]\ttraining's binary_error: 0.152488\tvalid_1's binary_error: 0.164179\n",
            "[72]\ttraining's binary_error: 0.154093\tvalid_1's binary_error: 0.160448\n",
            "Early stopping, best iteration is:\n",
            "[24]\ttraining's binary_error: 0.176565\tvalid_1's binary_error: 0.149254\n"
          ],
          "name": "stdout"
        },
        {
          "output_type": "stream",
          "text": [
            "/usr/local/lib/python3.7/dist-packages/lightgbm/basic.py:762: UserWarning: categorical_feature in param dict is overridden.\n",
            "  warnings.warn('categorical_feature in param dict is overridden.')\n"
          ],
          "name": "stderr"
        }
      ]
    },
    {
      "cell_type": "code",
      "metadata": {
        "id": "lFyygnZ7KrU5"
      },
      "source": [
        "predtest = gbm.predict(testData)"
      ],
      "execution_count": null,
      "outputs": []
    },
    {
      "cell_type": "code",
      "metadata": {
        "id": "u9S8tTGFeaBj"
      },
      "source": [
        "submission = pd.DataFrame()\n",
        "submission['PassengerId'] = test['PassengerId']\n",
        "submission['Survived'] = np.int32(predtest >= 0.5)"
      ],
      "execution_count": null,
      "outputs": []
    },
    {
      "cell_type": "code",
      "metadata": {
        "colab": {
          "base_uri": "https://localhost:8080/",
          "height": 419
        },
        "id": "Ea8a4h0keyjx",
        "outputId": "bc12a408-a655-4fc5-d122-7cad2a23a871"
      },
      "source": [
        "submission"
      ],
      "execution_count": null,
      "outputs": [
        {
          "output_type": "execute_result",
          "data": {
            "text/html": [
              "<div>\n",
              "<style scoped>\n",
              "    .dataframe tbody tr th:only-of-type {\n",
              "        vertical-align: middle;\n",
              "    }\n",
              "\n",
              "    .dataframe tbody tr th {\n",
              "        vertical-align: top;\n",
              "    }\n",
              "\n",
              "    .dataframe thead th {\n",
              "        text-align: right;\n",
              "    }\n",
              "</style>\n",
              "<table border=\"1\" class=\"dataframe\">\n",
              "  <thead>\n",
              "    <tr style=\"text-align: right;\">\n",
              "      <th></th>\n",
              "      <th>PassengerId</th>\n",
              "      <th>Survived</th>\n",
              "    </tr>\n",
              "  </thead>\n",
              "  <tbody>\n",
              "    <tr>\n",
              "      <th>0</th>\n",
              "      <td>892</td>\n",
              "      <td>0</td>\n",
              "    </tr>\n",
              "    <tr>\n",
              "      <th>1</th>\n",
              "      <td>893</td>\n",
              "      <td>0</td>\n",
              "    </tr>\n",
              "    <tr>\n",
              "      <th>2</th>\n",
              "      <td>894</td>\n",
              "      <td>0</td>\n",
              "    </tr>\n",
              "    <tr>\n",
              "      <th>3</th>\n",
              "      <td>895</td>\n",
              "      <td>0</td>\n",
              "    </tr>\n",
              "    <tr>\n",
              "      <th>4</th>\n",
              "      <td>896</td>\n",
              "      <td>0</td>\n",
              "    </tr>\n",
              "    <tr>\n",
              "      <th>...</th>\n",
              "      <td>...</td>\n",
              "      <td>...</td>\n",
              "    </tr>\n",
              "    <tr>\n",
              "      <th>413</th>\n",
              "      <td>1305</td>\n",
              "      <td>0</td>\n",
              "    </tr>\n",
              "    <tr>\n",
              "      <th>414</th>\n",
              "      <td>1306</td>\n",
              "      <td>1</td>\n",
              "    </tr>\n",
              "    <tr>\n",
              "      <th>415</th>\n",
              "      <td>1307</td>\n",
              "      <td>0</td>\n",
              "    </tr>\n",
              "    <tr>\n",
              "      <th>416</th>\n",
              "      <td>1308</td>\n",
              "      <td>0</td>\n",
              "    </tr>\n",
              "    <tr>\n",
              "      <th>417</th>\n",
              "      <td>1309</td>\n",
              "      <td>0</td>\n",
              "    </tr>\n",
              "  </tbody>\n",
              "</table>\n",
              "<p>418 rows × 2 columns</p>\n",
              "</div>"
            ],
            "text/plain": [
              "     PassengerId  Survived\n",
              "0            892         0\n",
              "1            893         0\n",
              "2            894         0\n",
              "3            895         0\n",
              "4            896         0\n",
              "..           ...       ...\n",
              "413         1305         0\n",
              "414         1306         1\n",
              "415         1307         0\n",
              "416         1308         0\n",
              "417         1309         0\n",
              "\n",
              "[418 rows x 2 columns]"
            ]
          },
          "metadata": {
            "tags": []
          },
          "execution_count": 538
        }
      ]
    },
    {
      "cell_type": "code",
      "metadata": {
        "colab": {
          "base_uri": "https://localhost:8080/",
          "height": 17
        },
        "id": "xc4oH7S8I4rZ",
        "outputId": "d63381d9-b095-4338-98db-cb6b1f3672a1"
      },
      "source": [
        "# submission.to_csv('Titanic.csv',index=False)\n",
        "# from google.colab import files\n",
        "# files.download('Titanic.csv')"
      ],
      "execution_count": null,
      "outputs": [
        {
          "output_type": "display_data",
          "data": {
            "application/javascript": [
              "\n",
              "    async function download(id, filename, size) {\n",
              "      if (!google.colab.kernel.accessAllowed) {\n",
              "        return;\n",
              "      }\n",
              "      const div = document.createElement('div');\n",
              "      const label = document.createElement('label');\n",
              "      label.textContent = `Downloading \"${filename}\": `;\n",
              "      div.appendChild(label);\n",
              "      const progress = document.createElement('progress');\n",
              "      progress.max = size;\n",
              "      div.appendChild(progress);\n",
              "      document.body.appendChild(div);\n",
              "\n",
              "      const buffers = [];\n",
              "      let downloaded = 0;\n",
              "\n",
              "      const channel = await google.colab.kernel.comms.open(id);\n",
              "      // Send a message to notify the kernel that we're ready.\n",
              "      channel.send({})\n",
              "\n",
              "      for await (const message of channel.messages) {\n",
              "        // Send a message to notify the kernel that we're ready.\n",
              "        channel.send({})\n",
              "        if (message.buffers) {\n",
              "          for (const buffer of message.buffers) {\n",
              "            buffers.push(buffer);\n",
              "            downloaded += buffer.byteLength;\n",
              "            progress.value = downloaded;\n",
              "          }\n",
              "        }\n",
              "      }\n",
              "      const blob = new Blob(buffers, {type: 'application/binary'});\n",
              "      const a = document.createElement('a');\n",
              "      a.href = window.URL.createObjectURL(blob);\n",
              "      a.download = filename;\n",
              "      div.appendChild(a);\n",
              "      a.click();\n",
              "      div.remove();\n",
              "    }\n",
              "  "
            ],
            "text/plain": [
              "<IPython.core.display.Javascript object>"
            ]
          },
          "metadata": {
            "tags": []
          }
        },
        {
          "output_type": "display_data",
          "data": {
            "application/javascript": [
              "download(\"download_c06d8cc9-d695-4c69-a6ae-8623e89dcbf1\", \"Titanic.csv\", 2839)"
            ],
            "text/plain": [
              "<IPython.core.display.Javascript object>"
            ]
          },
          "metadata": {
            "tags": []
          }
        }
      ]
    }
  ]
}